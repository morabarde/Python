{
 "cells": [
  {
   "cell_type": "markdown",
   "id": "5f955cb4",
   "metadata": {},
   "source": [
    "#### Estadísticas Descriptivas"
   ]
  },
  {
   "cell_type": "code",
   "execution_count": 27,
   "id": "f8e48a77",
   "metadata": {},
   "outputs": [],
   "source": [
    "# Importo librerias\n",
    "\n",
    "import pandas as pd\n",
    "import numpy as np\n",
    "import matplotlib as plt\n",
    "import matplotlib.pyplot as plt\n",
    "import seaborn as sns"
   ]
  },
  {
   "cell_type": "code",
   "execution_count": 28,
   "id": "af89bfaf",
   "metadata": {},
   "outputs": [],
   "source": [
    "# Importo archivo .CSV\n",
    "\n",
    "df = pd.read_csv(\"player_valuations.csv\")"
   ]
  },
  {
   "cell_type": "markdown",
   "id": "33c96d78",
   "metadata": {},
   "source": [
    "##### Exploracion inicial "
   ]
  },
  {
   "cell_type": "code",
   "execution_count": 29,
   "id": "1703341b",
   "metadata": {},
   "outputs": [
    {
     "data": {
      "text/html": [
       "<div>\n",
       "<style scoped>\n",
       "    .dataframe tbody tr th:only-of-type {\n",
       "        vertical-align: middle;\n",
       "    }\n",
       "\n",
       "    .dataframe tbody tr th {\n",
       "        vertical-align: top;\n",
       "    }\n",
       "\n",
       "    .dataframe thead th {\n",
       "        text-align: right;\n",
       "    }\n",
       "</style>\n",
       "<table border=\"1\" class=\"dataframe\">\n",
       "  <thead>\n",
       "    <tr style=\"text-align: right;\">\n",
       "      <th></th>\n",
       "      <th>player_id</th>\n",
       "      <th>date</th>\n",
       "      <th>market_value_in_eur</th>\n",
       "      <th>current_club_id</th>\n",
       "      <th>player_club_domestic_competition_id</th>\n",
       "    </tr>\n",
       "  </thead>\n",
       "  <tbody>\n",
       "    <tr>\n",
       "      <th>0</th>\n",
       "      <td>405973</td>\n",
       "      <td>2000-01-20</td>\n",
       "      <td>150000</td>\n",
       "      <td>3057</td>\n",
       "      <td>BE1</td>\n",
       "    </tr>\n",
       "    <tr>\n",
       "      <th>1</th>\n",
       "      <td>342216</td>\n",
       "      <td>2001-07-20</td>\n",
       "      <td>100000</td>\n",
       "      <td>1241</td>\n",
       "      <td>SC1</td>\n",
       "    </tr>\n",
       "    <tr>\n",
       "      <th>2</th>\n",
       "      <td>3132</td>\n",
       "      <td>2003-12-09</td>\n",
       "      <td>400000</td>\n",
       "      <td>126</td>\n",
       "      <td>TR1</td>\n",
       "    </tr>\n",
       "    <tr>\n",
       "      <th>3</th>\n",
       "      <td>6893</td>\n",
       "      <td>2003-12-15</td>\n",
       "      <td>900000</td>\n",
       "      <td>984</td>\n",
       "      <td>GB1</td>\n",
       "    </tr>\n",
       "    <tr>\n",
       "      <th>4</th>\n",
       "      <td>10</td>\n",
       "      <td>2004-10-04</td>\n",
       "      <td>7000000</td>\n",
       "      <td>398</td>\n",
       "      <td>IT1</td>\n",
       "    </tr>\n",
       "    <tr>\n",
       "      <th>...</th>\n",
       "      <td>...</td>\n",
       "      <td>...</td>\n",
       "      <td>...</td>\n",
       "      <td>...</td>\n",
       "      <td>...</td>\n",
       "    </tr>\n",
       "    <tr>\n",
       "      <th>464777</th>\n",
       "      <td>1073997</td>\n",
       "      <td>2024-01-08</td>\n",
       "      <td>150000</td>\n",
       "      <td>18</td>\n",
       "      <td>L1</td>\n",
       "    </tr>\n",
       "    <tr>\n",
       "      <th>464778</th>\n",
       "      <td>361508</td>\n",
       "      <td>2024-01-10</td>\n",
       "      <td>300000</td>\n",
       "      <td>39</td>\n",
       "      <td>L1</td>\n",
       "    </tr>\n",
       "    <tr>\n",
       "      <th>464779</th>\n",
       "      <td>705337</td>\n",
       "      <td>2024-01-10</td>\n",
       "      <td>125000</td>\n",
       "      <td>26459</td>\n",
       "      <td>UKR1</td>\n",
       "    </tr>\n",
       "    <tr>\n",
       "      <th>464780</th>\n",
       "      <td>800946</td>\n",
       "      <td>2024-01-10</td>\n",
       "      <td>1000000</td>\n",
       "      <td>79</td>\n",
       "      <td>L1</td>\n",
       "    </tr>\n",
       "    <tr>\n",
       "      <th>464781</th>\n",
       "      <td>659225</td>\n",
       "      <td>2024-01-17</td>\n",
       "      <td>100000</td>\n",
       "      <td>5724</td>\n",
       "      <td>DK1</td>\n",
       "    </tr>\n",
       "  </tbody>\n",
       "</table>\n",
       "<p>464782 rows × 5 columns</p>\n",
       "</div>"
      ],
      "text/plain": [
       "        player_id        date  market_value_in_eur  current_club_id  \\\n",
       "0          405973  2000-01-20               150000             3057   \n",
       "1          342216  2001-07-20               100000             1241   \n",
       "2            3132  2003-12-09               400000              126   \n",
       "3            6893  2003-12-15               900000              984   \n",
       "4              10  2004-10-04              7000000              398   \n",
       "...           ...         ...                  ...              ...   \n",
       "464777    1073997  2024-01-08               150000               18   \n",
       "464778     361508  2024-01-10               300000               39   \n",
       "464779     705337  2024-01-10               125000            26459   \n",
       "464780     800946  2024-01-10              1000000               79   \n",
       "464781     659225  2024-01-17               100000             5724   \n",
       "\n",
       "       player_club_domestic_competition_id  \n",
       "0                                      BE1  \n",
       "1                                      SC1  \n",
       "2                                      TR1  \n",
       "3                                      GB1  \n",
       "4                                      IT1  \n",
       "...                                    ...  \n",
       "464777                                  L1  \n",
       "464778                                  L1  \n",
       "464779                                UKR1  \n",
       "464780                                  L1  \n",
       "464781                                 DK1  \n",
       "\n",
       "[464782 rows x 5 columns]"
      ]
     },
     "execution_count": 29,
     "metadata": {},
     "output_type": "execute_result"
    }
   ],
   "source": [
    "df"
   ]
  },
  {
   "cell_type": "code",
   "execution_count": 30,
   "id": "580ee937",
   "metadata": {},
   "outputs": [],
   "source": [
    "# Cambio el nombre de la columna 'market_value_in_eur' a 'precio_en_euros'\n",
    "\n",
    "df.rename(columns={'market_value_in_eur': 'precio_en_euros'}, inplace=True)"
   ]
  },
  {
   "cell_type": "code",
   "execution_count": 31,
   "id": "7323c3db",
   "metadata": {},
   "outputs": [
    {
     "data": {
      "text/html": [
       "<div>\n",
       "<style scoped>\n",
       "    .dataframe tbody tr th:only-of-type {\n",
       "        vertical-align: middle;\n",
       "    }\n",
       "\n",
       "    .dataframe tbody tr th {\n",
       "        vertical-align: top;\n",
       "    }\n",
       "\n",
       "    .dataframe thead th {\n",
       "        text-align: right;\n",
       "    }\n",
       "</style>\n",
       "<table border=\"1\" class=\"dataframe\">\n",
       "  <thead>\n",
       "    <tr style=\"text-align: right;\">\n",
       "      <th></th>\n",
       "      <th>player_id</th>\n",
       "      <th>date</th>\n",
       "      <th>precio_en_euros</th>\n",
       "      <th>current_club_id</th>\n",
       "      <th>player_club_domestic_competition_id</th>\n",
       "    </tr>\n",
       "  </thead>\n",
       "  <tbody>\n",
       "    <tr>\n",
       "      <th>292158</th>\n",
       "      <td>342229</td>\n",
       "      <td>2019-12-19</td>\n",
       "      <td>200000000</td>\n",
       "      <td>583</td>\n",
       "      <td>FR1</td>\n",
       "    </tr>\n",
       "    <tr>\n",
       "      <th>268400</th>\n",
       "      <td>342229</td>\n",
       "      <td>2019-06-03</td>\n",
       "      <td>200000000</td>\n",
       "      <td>583</td>\n",
       "      <td>FR1</td>\n",
       "    </tr>\n",
       "    <tr>\n",
       "      <th>252371</th>\n",
       "      <td>342229</td>\n",
       "      <td>2018-12-17</td>\n",
       "      <td>200000000</td>\n",
       "      <td>583</td>\n",
       "      <td>FR1</td>\n",
       "    </tr>\n",
       "    <tr>\n",
       "      <th>443838</th>\n",
       "      <td>418560</td>\n",
       "      <td>2023-06-20</td>\n",
       "      <td>180000000</td>\n",
       "      <td>281</td>\n",
       "      <td>GB1</td>\n",
       "    </tr>\n",
       "    <tr>\n",
       "      <th>328329</th>\n",
       "      <td>342229</td>\n",
       "      <td>2020-10-15</td>\n",
       "      <td>180000000</td>\n",
       "      <td>583</td>\n",
       "      <td>FR1</td>\n",
       "    </tr>\n",
       "    <tr>\n",
       "      <th>...</th>\n",
       "      <td>...</td>\n",
       "      <td>...</td>\n",
       "      <td>...</td>\n",
       "      <td>...</td>\n",
       "      <td>...</td>\n",
       "    </tr>\n",
       "    <tr>\n",
       "      <th>456637</th>\n",
       "      <td>221815</td>\n",
       "      <td>2023-10-25</td>\n",
       "      <td>10000</td>\n",
       "      <td>1429</td>\n",
       "      <td>IT1</td>\n",
       "    </tr>\n",
       "    <tr>\n",
       "      <th>458037</th>\n",
       "      <td>55869</td>\n",
       "      <td>2023-12-04</td>\n",
       "      <td>10000</td>\n",
       "      <td>6676</td>\n",
       "      <td>GR1</td>\n",
       "    </tr>\n",
       "    <tr>\n",
       "      <th>458031</th>\n",
       "      <td>19987</td>\n",
       "      <td>2023-12-04</td>\n",
       "      <td>10000</td>\n",
       "      <td>2672</td>\n",
       "      <td>GR1</td>\n",
       "    </tr>\n",
       "    <tr>\n",
       "      <th>388267</th>\n",
       "      <td>621282</td>\n",
       "      <td>2022-02-01</td>\n",
       "      <td>10000</td>\n",
       "      <td>1005</td>\n",
       "      <td>IT1</td>\n",
       "    </tr>\n",
       "    <tr>\n",
       "      <th>15338</th>\n",
       "      <td>60096</td>\n",
       "      <td>2008-03-17</td>\n",
       "      <td>0</td>\n",
       "      <td>2696</td>\n",
       "      <td>RU1</td>\n",
       "    </tr>\n",
       "  </tbody>\n",
       "</table>\n",
       "<p>464782 rows × 5 columns</p>\n",
       "</div>"
      ],
      "text/plain": [
       "        player_id        date  precio_en_euros  current_club_id  \\\n",
       "292158     342229  2019-12-19        200000000              583   \n",
       "268400     342229  2019-06-03        200000000              583   \n",
       "252371     342229  2018-12-17        200000000              583   \n",
       "443838     418560  2023-06-20        180000000              281   \n",
       "328329     342229  2020-10-15        180000000              583   \n",
       "...           ...         ...              ...              ...   \n",
       "456637     221815  2023-10-25            10000             1429   \n",
       "458037      55869  2023-12-04            10000             6676   \n",
       "458031      19987  2023-12-04            10000             2672   \n",
       "388267     621282  2022-02-01            10000             1005   \n",
       "15338       60096  2008-03-17                0             2696   \n",
       "\n",
       "       player_club_domestic_competition_id  \n",
       "292158                                 FR1  \n",
       "268400                                 FR1  \n",
       "252371                                 FR1  \n",
       "443838                                 GB1  \n",
       "328329                                 FR1  \n",
       "...                                    ...  \n",
       "456637                                 IT1  \n",
       "458037                                 GR1  \n",
       "458031                                 GR1  \n",
       "388267                                 IT1  \n",
       "15338                                  RU1  \n",
       "\n",
       "[464782 rows x 5 columns]"
      ]
     },
     "execution_count": 31,
     "metadata": {},
     "output_type": "execute_result"
    }
   ],
   "source": [
    "# Ordeno el DF por valores de la columna 'precio_en_euros'\n",
    "\n",
    "df_sorted = df.sort_values(by='precio_en_euros', ascending=False)\n",
    "df_sorted"
   ]
  },
  {
   "cell_type": "markdown",
   "id": "9578f99a",
   "metadata": {},
   "source": [
    "##### Estadisticas Descriptivas: Resumen Estadistico Basico"
   ]
  },
  {
   "cell_type": "code",
   "execution_count": 32,
   "id": "16fbc387",
   "metadata": {},
   "outputs": [
    {
     "data": {
      "text/html": [
       "<div>\n",
       "<style scoped>\n",
       "    .dataframe tbody tr th:only-of-type {\n",
       "        vertical-align: middle;\n",
       "    }\n",
       "\n",
       "    .dataframe tbody tr th {\n",
       "        vertical-align: top;\n",
       "    }\n",
       "\n",
       "    .dataframe thead th {\n",
       "        text-align: right;\n",
       "    }\n",
       "</style>\n",
       "<table border=\"1\" class=\"dataframe\">\n",
       "  <thead>\n",
       "    <tr style=\"text-align: right;\">\n",
       "      <th></th>\n",
       "      <th>player_id</th>\n",
       "      <th>precio_en_euros</th>\n",
       "      <th>current_club_id</th>\n",
       "    </tr>\n",
       "  </thead>\n",
       "  <tbody>\n",
       "    <tr>\n",
       "      <th>count</th>\n",
       "      <td>464782.000</td>\n",
       "      <td>464782.000</td>\n",
       "      <td>464782.000</td>\n",
       "    </tr>\n",
       "    <tr>\n",
       "      <th>mean</th>\n",
       "      <td>204484.605</td>\n",
       "      <td>2359657.620</td>\n",
       "      <td>4060.930</td>\n",
       "    </tr>\n",
       "    <tr>\n",
       "      <th>std</th>\n",
       "      <td>186128.543</td>\n",
       "      <td>6666213.585</td>\n",
       "      <td>9516.104</td>\n",
       "    </tr>\n",
       "    <tr>\n",
       "      <th>min</th>\n",
       "      <td>10.000</td>\n",
       "      <td>0.000</td>\n",
       "      <td>3.000</td>\n",
       "    </tr>\n",
       "    <tr>\n",
       "      <th>25%</th>\n",
       "      <td>56841.000</td>\n",
       "      <td>200000.000</td>\n",
       "      <td>369.000</td>\n",
       "    </tr>\n",
       "    <tr>\n",
       "      <th>50%</th>\n",
       "      <td>149526.000</td>\n",
       "      <td>500000.000</td>\n",
       "      <td>1010.000</td>\n",
       "    </tr>\n",
       "    <tr>\n",
       "      <th>75%</th>\n",
       "      <td>297772.000</td>\n",
       "      <td>1500000.000</td>\n",
       "      <td>2969.000</td>\n",
       "    </tr>\n",
       "    <tr>\n",
       "      <th>max</th>\n",
       "      <td>1186012.000</td>\n",
       "      <td>200000000.000</td>\n",
       "      <td>83678.000</td>\n",
       "    </tr>\n",
       "  </tbody>\n",
       "</table>\n",
       "</div>"
      ],
      "text/plain": [
       "        player_id  precio_en_euros  current_club_id\n",
       "count  464782.000       464782.000       464782.000\n",
       "mean   204484.605      2359657.620         4060.930\n",
       "std    186128.543      6666213.585         9516.104\n",
       "min        10.000            0.000            3.000\n",
       "25%     56841.000       200000.000          369.000\n",
       "50%    149526.000       500000.000         1010.000\n",
       "75%    297772.000      1500000.000         2969.000\n",
       "max   1186012.000    200000000.000        83678.000"
      ]
     },
     "execution_count": 32,
     "metadata": {},
     "output_type": "execute_result"
    }
   ],
   "source": [
    "# Configurar el formato de visualizacion para mostrar numeros completos\n",
    "pd.set_option('display.float_format', lambda x: '%.3f' % x)\n",
    "\n",
    "df.describe()"
   ]
  },
  {
   "cell_type": "code",
   "execution_count": 33,
   "id": "d5cb5a0d",
   "metadata": {},
   "outputs": [
    {
     "data": {
      "text/plain": [
       "0    300000\n",
       "Name: precio_en_euros, dtype: int64"
      ]
     },
     "execution_count": 33,
     "metadata": {},
     "output_type": "execute_result"
    }
   ],
   "source": [
    "# Funciones basicas para 'precio_en_eur'\n",
    "\n",
    "df['precio_en_euros'].mean() \n",
    "df['precio_en_euros'].median()\n",
    "df['precio_en_euros'].mode()"
   ]
  },
  {
   "cell_type": "code",
   "execution_count": 34,
   "id": "6fb30b8f",
   "metadata": {},
   "outputs": [
    {
     "data": {
      "image/png": "[encoded data removed]",
      "text/plain": [
       "<Figure size 640x480 with 1 Axes>"
      ]
     },
     "metadata": {},
     "output_type": "display_data"
    }
   ],
   "source": [
    "# Graficar algunas cosas.\n",
    "\n",
    "# BoxPlot \n",
    "plt.boxplot(df['precio_en_euros'])\n",
    "plt.title('Boxplot de precio_en_eur')\n",
    "plt.show()"
   ]
  },
  {
   "cell_type": "code",
   "execution_count": 35,
   "id": "72dc83ac",
   "metadata": {},
   "outputs": [
    {
     "data": {
      "image/png": "[encoded data removed]",
      "text/plain": [
       "<Figure size 640x480 with 1 Axes>"
      ]
     },
     "metadata": {},
     "output_type": "display_data"
    }
   ],
   "source": [
    "# Siguiendo..\n",
    "\n",
    "# Histograma\n",
    "plt.hist(df['precio_en_euros'])\n",
    "plt.title('Histograma de precio_en_eur')\n",
    "plt.show()"
   ]
  },
  {
   "cell_type": "markdown",
   "id": "f8a35e2e",
   "metadata": {},
   "source": [
    "##### Limpieza de Datos utilizando IQR\n",
    "\n",
    "Este proceso esta relacionado con la identificacion y tratamiento de outliers en un conjunto de datos.\n",
    "\n",
    "- Q1 representa el Primer Cuartil, que es el valor por debajo del cual se encuentra el 25% de los datos\n",
    "- Q3 representa el Tercer Cuartil, que es el valor por debajo de cual se encuentra el 75% de los datos\n",
    "\n",
    "Se calcula el Rango Intercuartilico (IQR) que es la diferencia entre el Tercer Cuartil (Q3) y el Primer Cuartil (Q1) \n",
    "Se establece un limite superior y uno inferior para identificar valores atipicos.\n",
    "- El limite inferior se calcula restando 1.5 veces el IQR a Q1: lower_bound = Q1 - 1.5*IQR\n",
    "- El limite superior se calcula sumando 1.5 veces el IQR a Q3: upper_bound = Q3 + 1.5*IQR"
   ]
  },
  {
   "cell_type": "code",
   "execution_count": 36,
   "id": "1b0c171e",
   "metadata": {},
   "outputs": [],
   "source": [
    "# Calculo cuartiles\n",
    "Q1 = df['precio_en_euros'].quantile(0.25)\n",
    "Q3 = df['precio_en_euros'].quantile(0.75)\n",
    "IQR = Q3 - Q1\n",
    "\n",
    "# Defino limites\n",
    "upper_bound = Q3 + 1.5 * IQR\n",
    "lower_bound = Q1 - 1.5 * IQR\n",
    "\n",
    "# Genero un DF que tenga el rango intercuartilico IQR\n",
    "df_filtered = df[(df['precio_en_euros'] >= lower_bound) & (df['precio_en_euros'] <= upper_bound)]"
   ]
  },
  {
   "cell_type": "code",
   "execution_count": 37,
   "id": "cc99db92",
   "metadata": {},
   "outputs": [
    {
     "data": {
      "text/html": [
       "<div>\n",
       "<style scoped>\n",
       "    .dataframe tbody tr th:only-of-type {\n",
       "        vertical-align: middle;\n",
       "    }\n",
       "\n",
       "    .dataframe tbody tr th {\n",
       "        vertical-align: top;\n",
       "    }\n",
       "\n",
       "    .dataframe thead th {\n",
       "        text-align: right;\n",
       "    }\n",
       "</style>\n",
       "<table border=\"1\" class=\"dataframe\">\n",
       "  <thead>\n",
       "    <tr style=\"text-align: right;\">\n",
       "      <th></th>\n",
       "      <th>player_id</th>\n",
       "      <th>date</th>\n",
       "      <th>precio_en_euros</th>\n",
       "      <th>current_club_id</th>\n",
       "      <th>player_club_domestic_competition_id</th>\n",
       "    </tr>\n",
       "  </thead>\n",
       "  <tbody>\n",
       "    <tr>\n",
       "      <th>0</th>\n",
       "      <td>405973</td>\n",
       "      <td>2000-01-20</td>\n",
       "      <td>150000</td>\n",
       "      <td>3057</td>\n",
       "      <td>BE1</td>\n",
       "    </tr>\n",
       "    <tr>\n",
       "      <th>1</th>\n",
       "      <td>342216</td>\n",
       "      <td>2001-07-20</td>\n",
       "      <td>100000</td>\n",
       "      <td>1241</td>\n",
       "      <td>SC1</td>\n",
       "    </tr>\n",
       "    <tr>\n",
       "      <th>2</th>\n",
       "      <td>3132</td>\n",
       "      <td>2003-12-09</td>\n",
       "      <td>400000</td>\n",
       "      <td>126</td>\n",
       "      <td>TR1</td>\n",
       "    </tr>\n",
       "    <tr>\n",
       "      <th>3</th>\n",
       "      <td>6893</td>\n",
       "      <td>2003-12-15</td>\n",
       "      <td>900000</td>\n",
       "      <td>984</td>\n",
       "      <td>GB1</td>\n",
       "    </tr>\n",
       "    <tr>\n",
       "      <th>5</th>\n",
       "      <td>26</td>\n",
       "      <td>2004-10-04</td>\n",
       "      <td>1500000</td>\n",
       "      <td>16</td>\n",
       "      <td>L1</td>\n",
       "    </tr>\n",
       "    <tr>\n",
       "      <th>...</th>\n",
       "      <td>...</td>\n",
       "      <td>...</td>\n",
       "      <td>...</td>\n",
       "      <td>...</td>\n",
       "      <td>...</td>\n",
       "    </tr>\n",
       "    <tr>\n",
       "      <th>464777</th>\n",
       "      <td>1073997</td>\n",
       "      <td>2024-01-08</td>\n",
       "      <td>150000</td>\n",
       "      <td>18</td>\n",
       "      <td>L1</td>\n",
       "    </tr>\n",
       "    <tr>\n",
       "      <th>464778</th>\n",
       "      <td>361508</td>\n",
       "      <td>2024-01-10</td>\n",
       "      <td>300000</td>\n",
       "      <td>39</td>\n",
       "      <td>L1</td>\n",
       "    </tr>\n",
       "    <tr>\n",
       "      <th>464779</th>\n",
       "      <td>705337</td>\n",
       "      <td>2024-01-10</td>\n",
       "      <td>125000</td>\n",
       "      <td>26459</td>\n",
       "      <td>UKR1</td>\n",
       "    </tr>\n",
       "    <tr>\n",
       "      <th>464780</th>\n",
       "      <td>800946</td>\n",
       "      <td>2024-01-10</td>\n",
       "      <td>1000000</td>\n",
       "      <td>79</td>\n",
       "      <td>L1</td>\n",
       "    </tr>\n",
       "    <tr>\n",
       "      <th>464781</th>\n",
       "      <td>659225</td>\n",
       "      <td>2024-01-17</td>\n",
       "      <td>100000</td>\n",
       "      <td>5724</td>\n",
       "      <td>DK1</td>\n",
       "    </tr>\n",
       "  </tbody>\n",
       "</table>\n",
       "<p>396578 rows × 5 columns</p>\n",
       "</div>"
      ],
      "text/plain": [
       "        player_id        date  precio_en_euros  current_club_id  \\\n",
       "0          405973  2000-01-20           150000             3057   \n",
       "1          342216  2001-07-20           100000             1241   \n",
       "2            3132  2003-12-09           400000              126   \n",
       "3            6893  2003-12-15           900000              984   \n",
       "5              26  2004-10-04          1500000               16   \n",
       "...           ...         ...              ...              ...   \n",
       "464777    1073997  2024-01-08           150000               18   \n",
       "464778     361508  2024-01-10           300000               39   \n",
       "464779     705337  2024-01-10           125000            26459   \n",
       "464780     800946  2024-01-10          1000000               79   \n",
       "464781     659225  2024-01-17           100000             5724   \n",
       "\n",
       "       player_club_domestic_competition_id  \n",
       "0                                      BE1  \n",
       "1                                      SC1  \n",
       "2                                      TR1  \n",
       "3                                      GB1  \n",
       "5                                       L1  \n",
       "...                                    ...  \n",
       "464777                                  L1  \n",
       "464778                                  L1  \n",
       "464779                                UKR1  \n",
       "464780                                  L1  \n",
       "464781                                 DK1  \n",
       "\n",
       "[396578 rows x 5 columns]"
      ]
     },
     "execution_count": 37,
     "metadata": {},
     "output_type": "execute_result"
    }
   ],
   "source": [
    "df_filtered"
   ]
  },
  {
   "cell_type": "code",
   "execution_count": 38,
   "id": "d6c90389",
   "metadata": {},
   "outputs": [
    {
     "data": {
      "image/png": "[encoded data removed]",
      "text/plain": [
       "<Figure size 640x480 with 1 Axes>"
      ]
     },
     "metadata": {},
     "output_type": "display_data"
    },
    {
     "data": {
      "image/png": "[encoded data removed]",
      "text/plain": [
       "<Figure size 640x480 with 1 Axes>"
      ]
     },
     "metadata": {},
     "output_type": "display_data"
    }
   ],
   "source": [
    "# Tiro nuevamente el BoxPlot y el Histograma\n",
    "\n",
    "plt.boxplot(df_filtered['precio_en_euros'])\n",
    "plt.title('Boxplot filtrado')\n",
    "plt.show()\n",
    "\n",
    "plt.hist(df_filtered['precio_en_euros'], bins=100)\n",
    "plt.title('Histograma filtrado')\n",
    "plt.show()"
   ]
  },
  {
   "cell_type": "markdown",
   "id": "b5eb1574",
   "metadata": {},
   "source": [
    "##### Medidas de Dispersion"
   ]
  },
  {
   "cell_type": "code",
   "execution_count": 42,
   "id": "762aee6a",
   "metadata": {},
   "outputs": [
    {
     "data": {
      "text/plain": [
       "np.int64(3400000)"
      ]
     },
     "execution_count": 42,
     "metadata": {},
     "output_type": "execute_result"
    }
   ],
   "source": [
    "# Rango\n",
    "rango = df_filtered['precio_en_euros'].max() - df_filtered['precio_en_euros'].min()\n",
    "rango"
   ]
  },
  {
   "cell_type": "code",
   "execution_count": 44,
   "id": "1c2ea270",
   "metadata": {},
   "outputs": [
    {
     "data": {
      "text/plain": [
       "np.float64(730373.144687121)"
      ]
     },
     "execution_count": 44,
     "metadata": {},
     "output_type": "execute_result"
    }
   ],
   "source": [
    "# Varianza\n",
    "df_filtered['precio_en_euros'].var()\n",
    "\n",
    "# Desvio tipico\n",
    "df_filtered['precio_en_euros'].std()"
   ]
  },
  {
   "cell_type": "markdown",
   "id": "4ea95392",
   "metadata": {},
   "source": [
    "##### Medidas de Correlacion"
   ]
  },
  {
   "cell_type": "code",
   "execution_count": 46,
   "id": "080eb543",
   "metadata": {},
   "outputs": [],
   "source": [
    "# Creo un nuevo DF solo con variables numericas para calcular la correlacion\n",
    "df_nuevo = df[['precio_en_euros', 'current_club_id']].copy()"
   ]
  },
  {
   "cell_type": "code",
   "execution_count": 48,
   "id": "58b65a59",
   "metadata": {},
   "outputs": [
    {
     "data": {
      "image/png": "[encoded data removed]",
      "text/plain": [
       "<Figure size 640x480 with 2 Axes>"
      ]
     },
     "metadata": {},
     "output_type": "display_data"
    }
   ],
   "source": [
    "# Matriz de Correlacion\n",
    "correlation_matrix = df_nuevo.corr()\n",
    "\n",
    "# Visualizacion del heatmap con seaborn\n",
    "sns.heatmap(correlation_matrix, annot=True, cmap='coolwarm')\n",
    "plt.title('Matriz de correlacion')\n",
    "plt.show()"
   ]
  },
  {
   "cell_type": "code",
   "execution_count": 49,
   "id": "dba998f2",
   "metadata": {},
   "outputs": [
    {
     "data": {
      "image/png": "[encoded data removed]",
      "text/plain": [
       "<Figure size 640x480 with 1 Axes>"
      ]
     },
     "metadata": {},
     "output_type": "display_data"
    }
   ],
   "source": [
    "# Diagrama de Dispersion\n",
    "sns.scatterplot(x='precio_en_euros', y='current_club_id', data=df_nuevo)\n",
    "plt.title('Diagrama de Dispersion')\n",
    "plt.show()"
   ]
  }
 ],
 "metadata": {
  "kernelspec": {
   "display_name": "Python 3",
   "language": "python",
   "name": "python3"
  },
  "language_info": {
   "codemirror_mode": {
    "name": "ipython",
    "version": 3
   },
   "file_extension": ".py",
   "mimetype": "text/x-python",
   "name": "python",
   "nbconvert_exporter": "python",
   "pygments_lexer": "ipython3",
   "version": "3.13.5"
  }
 },
 "nbformat": 4,
 "nbformat_minor": 5
}
