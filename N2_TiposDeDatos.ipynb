{
 "cells": [
  {
   "cell_type": "code",
   "execution_count": 2,
   "id": "dc016dfd",
   "metadata": {},
   "outputs": [],
   "source": [
    "import pandas as pd\n",
    "import numpy as np"
   ]
  },
  {
   "cell_type": "markdown",
   "id": "e0ce0c33",
   "metadata": {},
   "source": [
    "## Tipos de datos\n",
    "\n",
    "- Enteros (int): Representan numeros enteros. Ej 'edad = 25'\n",
    "- Flotantes (float): Representan numeros con decimales. Ej 'peso = 57.5'\n",
    "- Cadenas (strg): Representan texto. Ej 'nombre = pedro'"
   ]
  },
  {
   "cell_type": "code",
   "execution_count": 3,
   "id": "38cf1e03",
   "metadata": {},
   "outputs": [],
   "source": [
    "edad = 25"
   ]
  },
  {
   "cell_type": "code",
   "execution_count": 3,
   "id": "b2efa7bd",
   "metadata": {},
   "outputs": [
    {
     "data": {
      "text/plain": [
       "int"
      ]
     },
     "execution_count": 3,
     "metadata": {},
     "output_type": "execute_result"
    }
   ],
   "source": [
    "type(edad)"
   ]
  },
  {
   "cell_type": "code",
   "execution_count": 9,
   "id": "94027f8c",
   "metadata": {},
   "outputs": [],
   "source": [
    "peso = 57.5"
   ]
  },
  {
   "cell_type": "code",
   "execution_count": 10,
   "id": "4a89ff27",
   "metadata": {},
   "outputs": [
    {
     "data": {
      "text/plain": [
       "float"
      ]
     },
     "execution_count": 10,
     "metadata": {},
     "output_type": "execute_result"
    }
   ],
   "source": [
    "type(peso)"
   ]
  },
  {
   "cell_type": "code",
   "execution_count": 11,
   "id": "96cb41f3",
   "metadata": {},
   "outputs": [],
   "source": [
    "nombre = \"pedro\""
   ]
  },
  {
   "cell_type": "code",
   "execution_count": 8,
   "id": "4c2187fe",
   "metadata": {},
   "outputs": [
    {
     "data": {
      "text/plain": [
       "str"
      ]
     },
     "execution_count": 8,
     "metadata": {},
     "output_type": "execute_result"
    }
   ],
   "source": [
    "type(nombre)"
   ]
  },
  {
   "cell_type": "markdown",
   "id": "a34b23c0",
   "metadata": {},
   "source": [
    "## Tipos de datos estructurados\n",
    "\n",
    "- Listas: Coleccion ordenada y modificable. Ejemplo: 'nombres: = [\"Juan\", \"Pedro\", \"Ana\"]\n",
    "- Tuplas: Coleccion ordenada e inmutable. Ejemplo: 'coordenadas ='(10, 20)'\n",
    "- Diccionarios: Coleccion desordenada de pares clave-valor. Ejemplo: 'persona = {\"nombre\": \"Carlos\", \"edad\": 30}'"
   ]
  },
  {
   "cell_type": "code",
   "execution_count": 5,
   "id": "fc9f409b",
   "metadata": {},
   "outputs": [
    {
     "data": {
      "text/plain": [
       "['Juan', 'Pedro', 'Ana', 'Joao']"
      ]
     },
     "execution_count": 5,
     "metadata": {},
     "output_type": "execute_result"
    }
   ],
   "source": [
    "nombre = [\"Juan\", \"Pedro\", \"Ana\"]\n",
    "type(nombre)\n",
    "nombre.append(\"Joao\")\n",
    "nombre"
   ]
  },
  {
   "cell_type": "code",
   "execution_count": 23,
   "id": "46f3d683",
   "metadata": {},
   "outputs": [
    {
     "data": {
      "text/plain": [
       "'Juan'"
      ]
     },
     "execution_count": 23,
     "metadata": {},
     "output_type": "execute_result"
    }
   ],
   "source": [
    "nombre[0]"
   ]
  },
  {
   "cell_type": "code",
   "execution_count": 24,
   "id": "3eafa13d",
   "metadata": {},
   "outputs": [
    {
     "data": {
      "text/plain": [
       "list"
      ]
     },
     "execution_count": 24,
     "metadata": {},
     "output_type": "execute_result"
    }
   ],
   "source": [
    "type(nombre)"
   ]
  },
  {
   "cell_type": "code",
   "execution_count": 10,
   "id": "1c9bacb8",
   "metadata": {},
   "outputs": [],
   "source": [
    "coordenadas = (10, 20)"
   ]
  },
  {
   "cell_type": "code",
   "execution_count": 9,
   "id": "e6040094",
   "metadata": {},
   "outputs": [
    {
     "data": {
      "text/plain": [
       "list"
      ]
     },
     "execution_count": 9,
     "metadata": {},
     "output_type": "execute_result"
    }
   ],
   "source": [
    "type(coordenadas)"
   ]
  },
  {
   "cell_type": "markdown",
   "id": "33d9d400",
   "metadata": {},
   "source": [
    "## Crear un DataFrame a partir de un diccionario"
   ]
  },
  {
   "cell_type": "code",
   "execution_count": null,
   "id": "c309c64f",
   "metadata": {},
   "outputs": [
    {
     "data": {
      "text/html": [
       "<div>\n",
       "<style scoped>\n",
       "    .dataframe tbody tr th:only-of-type {\n",
       "        vertical-align: middle;\n",
       "    }\n",
       "\n",
       "    .dataframe tbody tr th {\n",
       "        vertical-align: top;\n",
       "    }\n",
       "\n",
       "    .dataframe thead th {\n",
       "        text-align: right;\n",
       "    }\n",
       "</style>\n",
       "<table border=\"1\" class=\"dataframe\">\n",
       "  <thead>\n",
       "    <tr style=\"text-align: right;\">\n",
       "      <th></th>\n",
       "      <th>nombre</th>\n",
       "      <th>edad</th>\n",
       "      <th>profesion</th>\n",
       "    </tr>\n",
       "  </thead>\n",
       "  <tbody>\n",
       "    <tr>\n",
       "      <th>0</th>\n",
       "      <td>matias</td>\n",
       "      <td>26</td>\n",
       "      <td>economista</td>\n",
       "    </tr>\n",
       "    <tr>\n",
       "      <th>1</th>\n",
       "      <td>gabriel</td>\n",
       "      <td>24</td>\n",
       "      <td>cocinero</td>\n",
       "    </tr>\n",
       "  </tbody>\n",
       "</table>\n",
       "</div>"
      ],
      "text/plain": [
       "    nombre  edad   profesion\n",
       "0   matias    26  economista\n",
       "1  gabriel    24    cocinero"
      ]
     },
     "execution_count": 30,
     "metadata": {},
     "output_type": "execute_result"
    }
   ],
   "source": [
    "# Creo diccionario\n",
    "datos_personas = [\n",
    "    {\"nombre\": \"matias\", \"edad\": 26, \"profesion\": \"economista\"},\n",
    "    {\"nombre\": \"gabriel\", \"edad\": 25, \"profesion\": \"cocinero\"}\n",
    "]\n",
    "\n",
    "# Creo el DataFrame a partir del diccionario\n",
    "df_personas = pd.DataFrame(datos_personas)\n",
    "\n",
    "# Muestro el DataFrame\n",
    "df_personas"
   ]
  },
  {
   "cell_type": "markdown",
   "id": "21c275f4",
   "metadata": {},
   "source": [
    "## Datos Booleanos"
   ]
  },
  {
   "cell_type": "code",
   "execution_count": 31,
   "id": "c756d67b",
   "metadata": {},
   "outputs": [],
   "source": [
    "dummy_sexo = True"
   ]
  },
  {
   "cell_type": "code",
   "execution_count": 32,
   "id": "cd9316fc",
   "metadata": {},
   "outputs": [
    {
     "data": {
      "text/plain": [
       "bool"
      ]
     },
     "execution_count": 32,
     "metadata": {},
     "output_type": "execute_result"
    }
   ],
   "source": [
    "type(dummy_sexo)"
   ]
  },
  {
   "cell_type": "markdown",
   "id": "eeb85fdc",
   "metadata": {},
   "source": [
    "## Libreria NumPy para Datos Numericos"
   ]
  },
  {
   "cell_type": "code",
   "execution_count": 34,
   "id": "b7bc00d1",
   "metadata": {},
   "outputs": [],
   "source": [
    "edades = np.array([22, 25, 30])"
   ]
  },
  {
   "cell_type": "code",
   "execution_count": 35,
   "id": "3d457ddd",
   "metadata": {},
   "outputs": [
    {
     "data": {
      "text/plain": [
       "np.float64(25.666666666666668)"
      ]
     },
     "execution_count": 35,
     "metadata": {},
     "output_type": "execute_result"
    }
   ],
   "source": [
    "np.mean(edades)"
   ]
  },
  {
   "cell_type": "markdown",
   "id": "93a8e1be",
   "metadata": {},
   "source": [
    "## Ejercicios practicos\n",
    "\n",
    "### 1er Ejercicio - Listas"
   ]
  },
  {
   "cell_type": "code",
   "execution_count": 11,
   "id": "ec1c98a3",
   "metadata": {},
   "outputs": [
    {
     "name": "stdout",
     "output_type": "stream",
     "text": [
      "Los equipos seleccionados son: ['River', 'Talleres de Cordoba', 'Godoy Cruz', 'Belgrano']\n"
     ]
    }
   ],
   "source": [
    "# Creo una lista\n",
    "clubes = [\"River\", \"Talleres de Cordoba\", \"Godoy Cruz\"]\n",
    "clubes.append(\"Belgrano\")\n",
    "print(\"Los equipos seleccionados son:\", clubes)"
   ]
  },
  {
   "cell_type": "code",
   "execution_count": 42,
   "id": "3c8c440b",
   "metadata": {},
   "outputs": [
    {
     "data": {
      "text/plain": [
       "'Talleres de Cordoba'"
      ]
     },
     "execution_count": 42,
     "metadata": {},
     "output_type": "execute_result"
    }
   ],
   "source": [
    "# Elimino el segundo de la lista\n",
    "clubes.pop(1)"
   ]
  },
  {
   "cell_type": "code",
   "execution_count": 12,
   "id": "befee9cd",
   "metadata": {},
   "outputs": [
    {
     "data": {
      "text/plain": [
       "['River', 'Talleres de Cordoba', 'Godoy Cruz', 'Belgrano']"
      ]
     },
     "execution_count": 12,
     "metadata": {},
     "output_type": "execute_result"
    }
   ],
   "source": [
    "clubes"
   ]
  },
  {
   "cell_type": "code",
   "execution_count": 45,
   "id": "b551ec35",
   "metadata": {},
   "outputs": [
    {
     "name": "stdout",
     "output_type": "stream",
     "text": [
      "Profesion: economista\n"
     ]
    }
   ],
   "source": [
    "## Funciones utiles de un diccionario:\n",
    "perfil = {\n",
    "    \"nombre\": \"matias\",\n",
    "    \"edad\": 26,\n",
    "    \"profesion\": \"economista\",\n",
    "    \n",
    "}\n",
    "\n",
    "print(\"Profesion:\", perfil[\"profesion\"])"
   ]
  },
  {
   "cell_type": "code",
   "execution_count": null,
   "id": "98c4f8cd",
   "metadata": {},
   "outputs": [],
   "source": []
  }
 ],
 "metadata": {
  "kernelspec": {
   "display_name": "Python 3",
   "language": "python",
   "name": "python3"
  },
  "language_info": {
   "codemirror_mode": {
    "name": "ipython",
    "version": 3
   },
   "file_extension": ".py",
   "mimetype": "text/x-python",
   "name": "python",
   "nbconvert_exporter": "python",
   "pygments_lexer": "ipython3",
   "version": "3.13.5"
  }
 },
 "nbformat": 4,
 "nbformat_minor": 5
}
